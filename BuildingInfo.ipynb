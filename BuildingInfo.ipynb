{
 "cells": [
  {
   "cell_type": "code",
   "execution_count": 1,
   "id": "0b2e398f-c811-4f3e-9d55-b041fe7caafb",
   "metadata": {},
   "outputs": [],
   "source": [
    "import requests\n",
    "import pandas as pd\n",
    "from zipfile import ZipFile\n",
    "from io import BytesIO"
   ]
  },
  {
   "cell_type": "code",
   "execution_count": 2,
   "id": "02166eb5-fb9a-49e6-a390-bdc7572c6c95",
   "metadata": {},
   "outputs": [],
   "source": [
    "req = requests.get('https://www1.nyc.gov/assets/planning/download/zip/data-maps/open-data/nyc_pluto_21v4_csv.zip')\n",
    "files = ZipFile(BytesIO(req.content))"
   ]
  },
  {
   "cell_type": "code",
   "execution_count": 3,
   "id": "1fbc658a-3714-4376-88de-bf1c22fa2e22",
   "metadata": {},
   "outputs": [],
   "source": [
    "address = '464 PULASKI STREET'"
   ]
  },
  {
   "cell_type": "code",
   "execution_count": 4,
   "id": "f7e7e203-4b6e-4530-b789-c7bab798f937",
   "metadata": {},
   "outputs": [],
   "source": [
    "df = (pd.read_csv(files.open('pluto_21v4.csv'), low_memory=False)[lambda x: x['address'] == address])"
   ]
  },
  {
   "cell_type": "code",
   "execution_count": 5,
   "id": "7a38a6b7-77b1-46b7-9247-035f575720f6",
   "metadata": {},
   "outputs": [],
   "source": [
    "cols = ['address', 'zipcode', 'ownername', 'yearbuilt', 'yearalter1', 'yearalter2',\n",
    "        'ownertype', 'bldgclass', 'unitsres', 'assessland', 'assesstot']\n",
    "\n",
    "df = df.loc[:, cols]"
   ]
  },
  {
   "cell_type": "code",
   "execution_count": 6,
   "id": "bd37b410-56dc-4340-b851-f2c9298ef0fb",
   "metadata": {},
   "outputs": [],
   "source": [
    "df.set_axis(['Address', 'Zip Code', 'Owner', 'Year Built', 'Year Altered 1', 'Year Altered 2', \n",
    "             'Owner Type', 'Building Class', 'Units', 'Assessed Land Value', 'Total Assessed Value'],\n",
    "            axis=1, inplace=True)"
   ]
  },
  {
   "cell_type": "code",
   "execution_count": 7,
   "id": "d0f9402f-f026-4c02-b436-3ffbc2dbfbdc",
   "metadata": {},
   "outputs": [
    {
     "data": {
      "text/html": [
       "<div>\n",
       "<style scoped>\n",
       "    .dataframe tbody tr th:only-of-type {\n",
       "        vertical-align: middle;\n",
       "    }\n",
       "\n",
       "    .dataframe tbody tr th {\n",
       "        vertical-align: top;\n",
       "    }\n",
       "\n",
       "    .dataframe thead th {\n",
       "        text-align: right;\n",
       "    }\n",
       "</style>\n",
       "<table border=\"1\" class=\"dataframe\">\n",
       "  <thead>\n",
       "    <tr style=\"text-align: right;\">\n",
       "      <th></th>\n",
       "      <th>Address</th>\n",
       "      <th>Zip Code</th>\n",
       "      <th>Owner</th>\n",
       "      <th>Year Built</th>\n",
       "      <th>Year Altered 1</th>\n",
       "      <th>Year Altered 2</th>\n",
       "      <th>Owner Type</th>\n",
       "      <th>Building Class</th>\n",
       "      <th>Units</th>\n",
       "      <th>Assessed Land Value</th>\n",
       "      <th>Total Assessed Value</th>\n",
       "    </tr>\n",
       "  </thead>\n",
       "  <tbody>\n",
       "    <tr>\n",
       "      <th>390991</th>\n",
       "      <td>464 PULASKI STREET</td>\n",
       "      <td>11221.0</td>\n",
       "      <td>PULASKI 464 CORP.</td>\n",
       "      <td>1931.0</td>\n",
       "      <td>0.0</td>\n",
       "      <td>0.0</td>\n",
       "      <td>NaN</td>\n",
       "      <td>C1</td>\n",
       "      <td>8.0</td>\n",
       "      <td>8100.0</td>\n",
       "      <td>284130.0</td>\n",
       "    </tr>\n",
       "  </tbody>\n",
       "</table>\n",
       "</div>"
      ],
      "text/plain": [
       "                   Address  Zip Code              Owner  Year Built  \\\n",
       "390991  464 PULASKI STREET   11221.0  PULASKI 464 CORP.      1931.0   \n",
       "\n",
       "        Year Altered 1  Year Altered 2 Owner Type Building Class  Units  \\\n",
       "390991             0.0             0.0        NaN             C1    8.0   \n",
       "\n",
       "        Assessed Land Value  Total Assessed Value  \n",
       "390991               8100.0              284130.0  "
      ]
     },
     "execution_count": 7,
     "metadata": {},
     "output_type": "execute_result"
    }
   ],
   "source": [
    "df"
   ]
  }
 ],
 "metadata": {
  "kernelspec": {
   "display_name": "Python 3 (ipykernel)",
   "language": "python",
   "name": "python3"
  },
  "language_info": {
   "codemirror_mode": {
    "name": "ipython",
    "version": 3
   },
   "file_extension": ".py",
   "mimetype": "text/x-python",
   "name": "python",
   "nbconvert_exporter": "python",
   "pygments_lexer": "ipython3",
   "version": "3.9.12"
  }
 },
 "nbformat": 4,
 "nbformat_minor": 5
}
